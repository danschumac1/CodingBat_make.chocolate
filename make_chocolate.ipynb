{
 "cells": [
  {
   "cell_type": "markdown",
   "id": "f647236f",
   "metadata": {},
   "source": [
    "# Logic-2 > make_chocolate"
   ]
  },
  {
   "cell_type": "markdown",
   "id": "218625f5",
   "metadata": {},
   "source": [
    "We want make a package of goal kilos of chocolate. We have small bars (1 kilo each) and big bars (5 kilos each). Return the number of small bars to use, assuming we always use big bars before small bars. Return -1 if it can't be done.\n",
    "\n",
    "\n",
    "make_chocolate(4, 1, 9) → 4\n",
    "\n",
    "make_chocolate(4, 1, 10) → -1\n",
    "\n",
    "make_chocolate(4, 1, 7) → 2"
   ]
  },
  {
   "cell_type": "code",
   "execution_count": 1,
   "id": "a596f7d6",
   "metadata": {},
   "outputs": [],
   "source": [
    "def make_chocolate(small, big, goal):\n",
    "  \n",
    "  small_needed = goal%5\n",
    "  \n",
    "  #if it is impossible to get to the exact weight\n",
    "  if small_needed>small:\n",
    "    return -1\n",
    "   #make the goal div by 5 \n",
    "   #and adjust the smalls used \n",
    "  else:\n",
    "    goal-= small_needed\n",
    "    small-=small_needed\n",
    "  \n",
    "  #now that goal is div by 5, lets see if we have enough bigs\n",
    "  #to get to our target weight. if not lets adjust the goal \n",
    "  #for the bars we added\n",
    "  if big*5>=goal:\n",
    "    return small_needed\n",
    "  else:\n",
    "    goal-=big*5\n",
    "    \n",
    "  if small>=goal:\n",
    "    small_needed+=goal\n",
    "    return small_needed\n",
    "  else:\n",
    "    return -1"
   ]
  }
 ],
 "metadata": {
  "kernelspec": {
   "display_name": "Python 3 (ipykernel)",
   "language": "python",
   "name": "python3"
  },
  "language_info": {
   "codemirror_mode": {
    "name": "ipython",
    "version": 3
   },
   "file_extension": ".py",
   "mimetype": "text/x-python",
   "name": "python",
   "nbconvert_exporter": "python",
   "pygments_lexer": "ipython3",
   "version": "3.9.12"
  }
 },
 "nbformat": 4,
 "nbformat_minor": 5
}
